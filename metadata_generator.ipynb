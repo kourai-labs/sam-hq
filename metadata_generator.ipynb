{
 "cells": [
  {
   "cell_type": "markdown",
   "id": "ba30b370-69ef-4a74-a54a-2ad3ff10f3c6",
   "metadata": {},
   "source": [
    "# Segmentation Metadata Generator"
   ]
  },
  {
   "cell_type": "code",
   "execution_count": 10,
   "id": "f98de205-4939-400d-8e73-e52856ba1bb9",
   "metadata": {},
   "outputs": [
    {
     "name": "stdout",
     "output_type": "stream",
     "text": [
      "\u001b[31mERROR: pip's dependency resolver does not currently take into account all the packages that are installed. This behaviour is the source of the following dependency conflicts.\n",
      "transformers 4.35.2 requires regex!=2019.12.17, which is not installed.\n",
      "transformers 4.35.2 requires tokenizers<0.19,>=0.14, which is not installed.\u001b[0m\u001b[31m\n",
      "\u001b[0m"
     ]
    }
   ],
   "source": [
    "!pip install --upgrade -q 'supervision>0.14' transformers scipy safetensors 'opencv-python-headless<4.6.0' 'opencv-python<4.6.0' --no-dependencies\n",
    "!pip install --upgrade -q torch torchvision matplotlib numpy timm\n",
    "# accelerate cause error in transformers"
   ]
  },
  {
   "cell_type": "code",
   "execution_count": 2,
   "id": "7e366121-b472-459f-ac34-ffaf5ae0be88",
   "metadata": {},
   "outputs": [
    {
     "name": "stdout",
     "output_type": "stream",
     "text": [
      "--2023-11-29 00:59:28--  https://huggingface.co/lkeab/hq-sam/resolve/main/sam_hq_vit_b.pth?download=true\n",
      "Resolving huggingface.co (huggingface.co)... 18.172.134.124, 18.172.134.24, 18.172.134.4, ...\n",
      "Connecting to huggingface.co (huggingface.co)|18.172.134.124|:443... connected.\n",
      "HTTP request sent, awaiting response... 302 Found\n",
      "Location: https://cdn-lfs.huggingface.co/repos/d9/4e/d94e04992ac4e3ea45fcc1c523974540cdbef274e295d4aaacc69b4f19ee63b7/14a9d662cd6f5a9c2dba6d40ab0058d88d287e4a18fd6fdc6ad5fb1a3fdeaa57?response-content-disposition=attachment%3B+filename*%3DUTF-8%27%27sam_hq_vit_b.pth%3B+filename%3D%22sam_hq_vit_b.pth%22%3B&Expires=1701507568&Policy=eyJTdGF0ZW1lbnQiOlt7IkNvbmRpdGlvbiI6eyJEYXRlTGVzc1RoYW4iOnsiQVdTOkVwb2NoVGltZSI6MTcwMTUwNzU2OH19LCJSZXNvdXJjZSI6Imh0dHBzOi8vY2RuLWxmcy5odWdnaW5nZmFjZS5jby9yZXBvcy9kOS80ZS9kOTRlMDQ5OTJhYzRlM2VhNDVmY2MxYzUyMzk3NDU0MGNkYmVmMjc0ZTI5NWQ0YWFhY2M2OWI0ZjE5ZWU2M2I3LzE0YTlkNjYyY2Q2ZjVhOWMyZGJhNmQ0MGFiMDA1OGQ4OGQyODdlNGExOGZkNmZkYzZhZDVmYjFhM2ZkZWFhNTc%7EcmVzcG9uc2UtY29udGVudC1kaXNwb3NpdGlvbj0qIn1dfQ__&Signature=OTguM1Uxka2vfupu3wmd7MUr7uOgcTYujMqg3G3YedPSJRd0KMlr1fKjwhRMpF45SM9l8qKEdLF5iR7FE6RUQrQB2eheObLNXeDEwhuNH1uwOeFy9UawOMTJ-KoHTzIsCKkqhc4ng7L14e2QFgoBhOxwFGqFPM6JDmRHIPk04YIvb7djKSxHqbahpghe2KRNgPDiaMRjJFp4-TvqoMTA%7E3aKopDMTUOaWUPwyBldSCdJSr7TJffS5JhdWNTyh3oSmdjSqfL1gSltcej59SqZNMTZcsJOeoeli1m56zcq-vEvD3uvakca9SjwCFa5gOTPPXkkKllLxhbjuriwccsCwA__&Key-Pair-Id=KVTP0A1DKRTAX [following]\n",
      "--2023-11-29 00:59:28--  https://cdn-lfs.huggingface.co/repos/d9/4e/d94e04992ac4e3ea45fcc1c523974540cdbef274e295d4aaacc69b4f19ee63b7/14a9d662cd6f5a9c2dba6d40ab0058d88d287e4a18fd6fdc6ad5fb1a3fdeaa57?response-content-disposition=attachment%3B+filename*%3DUTF-8%27%27sam_hq_vit_b.pth%3B+filename%3D%22sam_hq_vit_b.pth%22%3B&Expires=1701507568&Policy=eyJTdGF0ZW1lbnQiOlt7IkNvbmRpdGlvbiI6eyJEYXRlTGVzc1RoYW4iOnsiQVdTOkVwb2NoVGltZSI6MTcwMTUwNzU2OH19LCJSZXNvdXJjZSI6Imh0dHBzOi8vY2RuLWxmcy5odWdnaW5nZmFjZS5jby9yZXBvcy9kOS80ZS9kOTRlMDQ5OTJhYzRlM2VhNDVmY2MxYzUyMzk3NDU0MGNkYmVmMjc0ZTI5NWQ0YWFhY2M2OWI0ZjE5ZWU2M2I3LzE0YTlkNjYyY2Q2ZjVhOWMyZGJhNmQ0MGFiMDA1OGQ4OGQyODdlNGExOGZkNmZkYzZhZDVmYjFhM2ZkZWFhNTc%7EcmVzcG9uc2UtY29udGVudC1kaXNwb3NpdGlvbj0qIn1dfQ__&Signature=OTguM1Uxka2vfupu3wmd7MUr7uOgcTYujMqg3G3YedPSJRd0KMlr1fKjwhRMpF45SM9l8qKEdLF5iR7FE6RUQrQB2eheObLNXeDEwhuNH1uwOeFy9UawOMTJ-KoHTzIsCKkqhc4ng7L14e2QFgoBhOxwFGqFPM6JDmRHIPk04YIvb7djKSxHqbahpghe2KRNgPDiaMRjJFp4-TvqoMTA%7E3aKopDMTUOaWUPwyBldSCdJSr7TJffS5JhdWNTyh3oSmdjSqfL1gSltcej59SqZNMTZcsJOeoeli1m56zcq-vEvD3uvakca9SjwCFa5gOTPPXkkKllLxhbjuriwccsCwA__&Key-Pair-Id=KVTP0A1DKRTAX\n",
      "Resolving cdn-lfs.huggingface.co (cdn-lfs.huggingface.co)... 108.159.227.123, 108.159.227.69, 108.159.227.71, ...\n",
      "Connecting to cdn-lfs.huggingface.co (cdn-lfs.huggingface.co)|108.159.227.123|:443... connected.\n",
      "HTTP request sent, awaiting response... 200 OK\n",
      "Length: 379335069 (362M) [binary/octet-stream]\n",
      "Saving to: ‘pretrained_checkpoint/sam_hq_vit_b.pth’\n",
      "\n",
      "pretrained_checkpoi 100%[===================>] 361.76M  29.7MB/s    in 12s     \n",
      "\n",
      "2023-11-29 00:59:41 (30.5 MB/s) - ‘pretrained_checkpoint/sam_hq_vit_b.pth’ saved [379335069/379335069]\n",
      "\n",
      "--2023-11-29 00:59:41--  https://huggingface.co/lkeab/hq-sam/resolve/main/sam_hq_vit_h.pth?download=true\n",
      "Resolving huggingface.co (huggingface.co)... 18.172.134.124, 18.172.134.4, 18.172.134.88, ...\n",
      "Connecting to huggingface.co (huggingface.co)|18.172.134.124|:443... connected.\n",
      "HTTP request sent, awaiting response... 302 Found\n",
      "Location: https://cdn-lfs.huggingface.co/repos/d9/4e/d94e04992ac4e3ea45fcc1c523974540cdbef274e295d4aaacc69b4f19ee63b7/a7ac14a085326d9fa6199c8c698c4f0e7280afdbb974d2c4660ec60877b45e35?response-content-disposition=attachment%3B+filename*%3DUTF-8%27%27sam_hq_vit_h.pth%3B+filename%3D%22sam_hq_vit_h.pth%22%3B&Expires=1701507581&Policy=eyJTdGF0ZW1lbnQiOlt7IkNvbmRpdGlvbiI6eyJEYXRlTGVzc1RoYW4iOnsiQVdTOkVwb2NoVGltZSI6MTcwMTUwNzU4MX19LCJSZXNvdXJjZSI6Imh0dHBzOi8vY2RuLWxmcy5odWdnaW5nZmFjZS5jby9yZXBvcy9kOS80ZS9kOTRlMDQ5OTJhYzRlM2VhNDVmY2MxYzUyMzk3NDU0MGNkYmVmMjc0ZTI5NWQ0YWFhY2M2OWI0ZjE5ZWU2M2I3L2E3YWMxNGEwODUzMjZkOWZhNjE5OWM4YzY5OGM0ZjBlNzI4MGFmZGJiOTc0ZDJjNDY2MGVjNjA4NzdiNDVlMzU%7EcmVzcG9uc2UtY29udGVudC1kaXNwb3NpdGlvbj0qIn1dfQ__&Signature=q68pNtqdYIiLBDtHNPj%7Ehr4z7Czqs9opxKi9GK0kPo1t03IUQFlPCTl-osEr9%7EYSD-oIxkZV045mQbcoHE3bCrhldBpgT1LMJTftEVLxc-7vdi1-jO4Gqcyof9c6XgG6uzxiUPP4WEvtgrNd56w8PUJv6ViQ5TM658M6B0H0KFoheO5admZwqzzKPYT7Y-%7EiZvNLurSxB-h8twoG1goyf8WnQeTqS-ghZwT9bLkl-1QTn4SrqeJOo8b2jqxJorSrmuPpF2Exfpfwg4%7EhHr3qzg3lpiQOZLxZr0nWr%7ERnXTAZJfnQE-HOKIvwNaBti7Z9gzfpEpKSbjZ7N6ptzeGF1Q__&Key-Pair-Id=KVTP0A1DKRTAX [following]\n",
      "--2023-11-29 00:59:41--  https://cdn-lfs.huggingface.co/repos/d9/4e/d94e04992ac4e3ea45fcc1c523974540cdbef274e295d4aaacc69b4f19ee63b7/a7ac14a085326d9fa6199c8c698c4f0e7280afdbb974d2c4660ec60877b45e35?response-content-disposition=attachment%3B+filename*%3DUTF-8%27%27sam_hq_vit_h.pth%3B+filename%3D%22sam_hq_vit_h.pth%22%3B&Expires=1701507581&Policy=eyJTdGF0ZW1lbnQiOlt7IkNvbmRpdGlvbiI6eyJEYXRlTGVzc1RoYW4iOnsiQVdTOkVwb2NoVGltZSI6MTcwMTUwNzU4MX19LCJSZXNvdXJjZSI6Imh0dHBzOi8vY2RuLWxmcy5odWdnaW5nZmFjZS5jby9yZXBvcy9kOS80ZS9kOTRlMDQ5OTJhYzRlM2VhNDVmY2MxYzUyMzk3NDU0MGNkYmVmMjc0ZTI5NWQ0YWFhY2M2OWI0ZjE5ZWU2M2I3L2E3YWMxNGEwODUzMjZkOWZhNjE5OWM4YzY5OGM0ZjBlNzI4MGFmZGJiOTc0ZDJjNDY2MGVjNjA4NzdiNDVlMzU%7EcmVzcG9uc2UtY29udGVudC1kaXNwb3NpdGlvbj0qIn1dfQ__&Signature=q68pNtqdYIiLBDtHNPj%7Ehr4z7Czqs9opxKi9GK0kPo1t03IUQFlPCTl-osEr9%7EYSD-oIxkZV045mQbcoHE3bCrhldBpgT1LMJTftEVLxc-7vdi1-jO4Gqcyof9c6XgG6uzxiUPP4WEvtgrNd56w8PUJv6ViQ5TM658M6B0H0KFoheO5admZwqzzKPYT7Y-%7EiZvNLurSxB-h8twoG1goyf8WnQeTqS-ghZwT9bLkl-1QTn4SrqeJOo8b2jqxJorSrmuPpF2Exfpfwg4%7EhHr3qzg3lpiQOZLxZr0nWr%7ERnXTAZJfnQE-HOKIvwNaBti7Z9gzfpEpKSbjZ7N6ptzeGF1Q__&Key-Pair-Id=KVTP0A1DKRTAX\n",
      "Resolving cdn-lfs.huggingface.co (cdn-lfs.huggingface.co)... 108.159.227.86, 108.159.227.123, 108.159.227.69, ...\n",
      "Connecting to cdn-lfs.huggingface.co (cdn-lfs.huggingface.co)|108.159.227.86|:443... connected.\n",
      "HTTP request sent, awaiting response... 200 OK\n",
      "Length: 2570940653 (2.4G) [binary/octet-stream]\n",
      "Saving to: ‘pretrained_checkpoint/sam_hq_vit_h.pth’\n",
      "\n",
      "pretrained_checkpoi 100%[===================>]   2.39G  36.7MB/s    in 64s     \n",
      "\n",
      "2023-11-29 01:00:45 (38.5 MB/s) - ‘pretrained_checkpoint/sam_hq_vit_h.pth’ saved [2570940653/2570940653]\n",
      "\n"
     ]
    }
   ],
   "source": [
    "!mkdir pretrained_checkpoint/\n",
    "!wget https://huggingface.co/lkeab/hq-sam/resolve/main/sam_hq_vit_b.pth?download=true -O pretrained_checkpoint/sam_hq_vit_b.pth\n",
    "!wget https://huggingface.co/lkeab/hq-sam/resolve/main/sam_hq_vit_h.pth?download=true -O pretrained_checkpoint/sam_hq_vit_h.pth"
   ]
  },
  {
   "cell_type": "code",
   "execution_count": 11,
   "id": "6d3a3e27-395e-4715-841b-49a12a281e27",
   "metadata": {},
   "outputs": [
    {
     "name": "stderr",
     "output_type": "stream",
     "text": [
      "The cache for model files in Transformers v4.22.0 has been updated. Migrating your old cache. This is a one-time only operation. You can interrupt this and resume the migration later on by calling `transformers.utils.move_cache()`.\n"
     ]
    },
    {
     "data": {
      "application/vnd.jupyter.widget-view+json": {
       "model_id": "c95d3dc294a7461cbf799bb8b3086650",
       "version_major": 2,
       "version_minor": 0
      },
      "text/plain": [
       "0it [00:00, ?it/s]"
      ]
     },
     "metadata": {},
     "output_type": "display_data"
    },
    {
     "name": "stderr",
     "output_type": "stream",
     "text": [
      "/home/kourai/haritsah/sam-hq/segment_anything/modeling/tiny_vit_sam.py:662: UserWarning: Overwriting tiny_vit_5m_224 in registry with segment_anything.modeling.tiny_vit_sam.tiny_vit_5m_224. This is because the name being registered conflicts with an existing name. Please check if this is not expected.\n",
      "  return register_model(fn_wrapper)\n",
      "/home/kourai/haritsah/sam-hq/segment_anything/modeling/tiny_vit_sam.py:662: UserWarning: Overwriting tiny_vit_11m_224 in registry with segment_anything.modeling.tiny_vit_sam.tiny_vit_11m_224. This is because the name being registered conflicts with an existing name. Please check if this is not expected.\n",
      "  return register_model(fn_wrapper)\n",
      "/home/kourai/haritsah/sam-hq/segment_anything/modeling/tiny_vit_sam.py:662: UserWarning: Overwriting tiny_vit_21m_224 in registry with segment_anything.modeling.tiny_vit_sam.tiny_vit_21m_224. This is because the name being registered conflicts with an existing name. Please check if this is not expected.\n",
      "  return register_model(fn_wrapper)\n",
      "/home/kourai/haritsah/sam-hq/segment_anything/modeling/tiny_vit_sam.py:662: UserWarning: Overwriting tiny_vit_21m_384 in registry with segment_anything.modeling.tiny_vit_sam.tiny_vit_21m_384. This is because the name being registered conflicts with an existing name. Please check if this is not expected.\n",
      "  return register_model(fn_wrapper)\n",
      "/home/kourai/haritsah/sam-hq/segment_anything/modeling/tiny_vit_sam.py:662: UserWarning: Overwriting tiny_vit_21m_512 in registry with segment_anything.modeling.tiny_vit_sam.tiny_vit_21m_512. This is because the name being registered conflicts with an existing name. Please check if this is not expected.\n",
      "  return register_model(fn_wrapper)\n"
     ]
    },
    {
     "name": "stdout",
     "output_type": "stream",
     "text": [
      "<All keys matched successfully>\n"
     ]
    }
   ],
   "source": [
    "import torch\n",
    "import json\n",
    "import os\n",
    "import cv2\n",
    "import numpy as np\n",
    "from tqdm.notebook import tqdm\n",
    "import supervision as sv\n",
    "\n",
    "from segment_anything import sam_model_registry, SamPredictor\n",
    "\n",
    "SAM_ENCODER_VERSION = \"vit_h\"\n",
    "SAM_CHECKPOINT_PATH = \"./pretrained_checkpoint/sam_hq_vit_h.pth\"\n",
    "\n",
    "device = torch.device(\"cpu\")\n",
    "if torch.cuda.is_available():\n",
    "   device = torch.device(\"cuda:0\")\n",
    "\n",
    "sam = sam_model_registry[SAM_ENCODER_VERSION](checkpoint=SAM_CHECKPOINT_PATH)\n",
    "sam.to(device=device)\n",
    "sam_predictor = SamPredictor(sam)"
   ]
  },
  {
   "cell_type": "markdown",
   "id": "31058b23-7f5a-49f2-b179-145542e04535",
   "metadata": {},
   "source": [
    "# Local Dataset"
   ]
  },
  {
   "cell_type": "code",
   "execution_count": 13,
   "id": "3cb1e806-93cc-4c0c-90e7-7c115d994023",
   "metadata": {},
   "outputs": [
    {
     "name": "stderr",
     "output_type": "stream",
     "text": [
      "Cloning into 'train/data/TestSAM'...\n"
     ]
    },
    {
     "name": "stdout",
     "output_type": "stream",
     "text": [
      "Branch 'master' set up to track remote branch 'master' from 'origin'.\n",
      "Your branch is up to date with 'origin/master'.\n"
     ]
    },
    {
     "name": "stderr",
     "output_type": "stream",
     "text": [
      "Reset branch 'master'\n",
      "Downloading new frames: 100%|█████████████████| 300/300 [00:46<00:00,  6.42it/s]\n"
     ]
    },
    {
     "data": {
      "text/plain": [
       "True"
      ]
     },
     "execution_count": 13,
     "metadata": {},
     "output_type": "execute_result"
    }
   ],
   "source": [
    "from hoarder.datasets.local_dataset import LocalDataset\n",
    "from hoarder.utils.conservator_utils import create_box_annotation, create_polygon_annotation, create_point_annotation\n",
    "from hoarder.datasets.datasets import get_dataset_by_name\n",
    "\n",
    "rd = get_dataset_by_name(\"TestSAM\", fields=[\"name\"])\n",
    "ld = LocalDataset.clone(rd, clone_path='train/data/')\n",
    "ld.pull()\n",
    "ld.download()"
   ]
  },
  {
   "cell_type": "code",
   "execution_count": 14,
   "id": "36b12c15-d9e3-4442-8d4a-a9362fa5dc1d",
   "metadata": {},
   "outputs": [
    {
     "name": "stdout",
     "output_type": "stream",
     "text": [
      "['head', 'person', 'person_in_pool', 'person_submerged']\n"
     ]
    }
   ],
   "source": [
    "from hoarder.utils.conservator_utils import get_label_sets, get_label_id_from_name\n",
    "\n",
    "label_sets = get_label_sets()\n",
    "valid_labels = []\n",
    "for label in label_sets:\n",
    "    if label.name == \"LifeguardSegment\":\n",
    "        valid_labels = [l.name for l in label.labels]\n",
    "\n",
    "print(valid_labels)"
   ]
  },
  {
   "cell_type": "code",
   "execution_count": 15,
   "id": "80c691f6-ae4c-4795-b599-e44dae8ea523",
   "metadata": {},
   "outputs": [
    {
     "name": "stdout",
     "output_type": "stream",
     "text": [
      "{'head': 'NzcLpnhoicyH5qxMK', 'person': '9jDpcQjHG8DB6hn95', 'person_in_pool': 'CRSQmSgpH4vHahxP5', 'person_submerged': 'GvbxFvAxZesXcuQBb'}\n"
     ]
    }
   ],
   "source": [
    "label_id_dict = {l: get_label_id_from_name(l, label_set_name=\"LifeguardSegment\", label_sets=label_sets) for l in valid_labels}\n",
    "print(label_id_dict)"
   ]
  },
  {
   "cell_type": "markdown",
   "id": "5d0b6b79-a08b-4f80-b202-432062cbf55a",
   "metadata": {},
   "source": [
    "# Generate Dataset Metadata"
   ]
  },
  {
   "cell_type": "code",
   "execution_count": 16,
   "id": "fb1c4baf-fd3e-4a1b-a70d-cabc4d97ed44",
   "metadata": {},
   "outputs": [
    {
     "data": {
      "application/vnd.jupyter.widget-view+json": {
       "model_id": "63e5fc402f764604926743b50a37493d",
       "version_major": 2,
       "version_minor": 0
      },
      "text/plain": [
       "  0%|          | 0/299 [00:00<?, ?it/s]"
      ]
     },
     "metadata": {},
     "output_type": "display_data"
    },
    {
     "name": "stderr",
     "output_type": "stream",
     "text": [
      "https://conservator.kour.ai/graphql: HTTP Error 502: Bad Gateway\n",
      "Retrying request after exception: errors='[{'message': 'HTTP Error 502: Bad Gateway', 'exception': <HTTPError 502: 'Bad Gateway'>, 'status': 502, 'headers': <http.client.HTTPMessage object at 0x7f8ec442f040>, 'body': '<html>\\r\\n<head><title>502 Bad Gateway</title></head>\\r\\n<body>\\r\\n<center><h1>502 Bad Gateway</h1></center>\\r\\n</body>\\r\\n</html>\\r\\n'}]' operation='query {\n",
      "  user {\n",
      "    id\n",
      "    email\n",
      "    name\n",
      "    role\n",
      "    groups {\n",
      "      id\n",
      "      name\n",
      "    }\n",
      "    isRemoved\n",
      "  }\n",
      "}'\n",
      "Retry #1\n",
      "https://conservator.kour.ai/graphql: HTTP Error 502: Bad Gateway\n",
      "Retrying request after exception: errors='[{'message': 'HTTP Error 502: Bad Gateway', 'exception': <HTTPError 502: 'Bad Gateway'>, 'status': 502, 'headers': <http.client.HTTPMessage object at 0x7f8ec442cee0>, 'body': '<html>\\r\\n<head><title>502 Bad Gateway</title></head>\\r\\n<body>\\r\\n<center><h1>502 Bad Gateway</h1></center>\\r\\n</body>\\r\\n</html>\\r\\n'}]' operation='query {\n",
      "  user {\n",
      "    id\n",
      "    email\n",
      "    name\n",
      "    role\n",
      "    groups {\n",
      "      id\n",
      "      name\n",
      "    }\n",
      "    isRemoved\n",
      "  }\n",
      "}'\n",
      "Retry #1\n"
     ]
    }
   ],
   "source": [
    "import cv2\n",
    "\n",
    "if False:\n",
    "    print(\"Commiting first changes\")\n",
    "    ld.add_local_changes()\n",
    "    ld.commit(f'Attempting to add annotations to images')\n",
    "    ld.pull()\n",
    "\n",
    "image_frames = ld.get_frames()\n",
    "for img_idx, frame in tqdm(enumerate(image_frames[1:], 1), total=len(image_frames[1:])):\n",
    "    # ld.pull()\n",
    "    image_path = ld.get_local_image_path(frame)\n",
    "    annotations = frame['annotations']\n",
    "    image_np = cv2.imread(image_path)\n",
    "    image_np = cv2.cvtColor(image_np, cv2.COLOR_BGR2RGB)\n",
    "    image_shape = image_np.shape\n",
    "    sam_predictor.set_image(image_np)\n",
    "\n",
    "    generated_metadata = {\n",
    "        \"boxes\": {}, # xywh\n",
    "        \"polygons\": {}, # xy,xy\n",
    "    }\n",
    "\n",
    "    for idx, ann in enumerate(annotations):\n",
    "        if \"boundingBox\" in ann:\n",
    "            # ld.pull()\n",
    "            box = ann[\"boundingBox\"]\n",
    "            x = int(box[\"x\"])\n",
    "            y = int(box[\"y\"])\n",
    "            w = int(box[\"w\"])\n",
    "            h = int(box[\"h\"])\n",
    "\n",
    "            label = ann[\"labels\"][0]\n",
    "            if label not in valid_labels:\n",
    "                continue\n",
    "\n",
    "            input_box = torch.tensor([[x, y, x+w, y+h]], device=device)\n",
    "            transformed_box = sam_predictor.transform.apply_boxes_torch(input_box, image_shape[:2])\n",
    "            masks, _, _ = sam_predictor.predict_torch(\n",
    "                point_coords=None,\n",
    "                point_labels=None,\n",
    "                boxes=transformed_box,\n",
    "                multimask_output=False,\n",
    "                hq_token_only=False,\n",
    "            )\n",
    "            masks = masks.squeeze().detach().cpu().numpy() # (H, W)\n",
    "            polygons = sv.mask_to_polygons(masks) # [np.ndarray([N, 2])]\n",
    "            if len(polygons) > 0:\n",
    "                polygons = polygons[0].tolist() # [(x,y), (x,y)]\n",
    "            else:\n",
    "                continue\n",
    "            dict_polygons = [{\"x\": x_, \"y\": y_} for x_, y_ in polygons]\n",
    "            polygon_annotation = create_polygon_annotation(dict_polygons, label, label_id_dict[label], as_dict=True)\n",
    "            ld.add_annotations_to_frames({img_idx: [polygon_annotation]})\n",
    "\n"
   ]
  },
  {
   "cell_type": "code",
   "execution_count": 17,
   "id": "a679fea4-c64d-4930-892f-cad0be98c76a",
   "metadata": {},
   "outputs": [
    {
     "name": "stdout",
     "output_type": "stream",
     "text": [
      "dataset.jsonl is valid\n",
      "frames.jsonl is valid\n",
      "videos.jsonl is valid\n",
      "[master 6151c9d] Added new polygon annotations using sam-hq-h\n",
      " 1 file changed, 283 insertions(+), 283 deletions(-)\n"
     ]
    },
    {
     "data": {
      "text/plain": [
       "0"
      ]
     },
     "execution_count": 17,
     "metadata": {},
     "output_type": "execute_result"
    }
   ],
   "source": [
    "ld.add_local_changes()\n",
    "ld.commit(f'Added new polygon annotations using sam-hq-h')"
   ]
  },
  {
   "cell_type": "code",
   "execution_count": 18,
   "id": "90a6909c-06af-4d6a-80ff-dd123cc89c4d",
   "metadata": {},
   "outputs": [
    {
     "name": "stdout",
     "output_type": "stream",
     "text": [
      "Branch 'master' set up to track remote branch 'master' from 'origin'.\n",
      "Your branch is up to date with 'origin/master'.\n"
     ]
    },
    {
     "name": "stderr",
     "output_type": "stream",
     "text": [
      "From https://conservator.kour.ai/git/dataset_qkNEgC3rmy29xvfAo\n",
      "   53d6c17..ddd2a22  master     -> origin/master\n",
      "Reset branch 'master'\n"
     ]
    }
   ],
   "source": [
    "ld.push_commits()"
   ]
  },
  {
   "cell_type": "code",
   "execution_count": 19,
   "id": "24001214-9136-47ef-bf59-f858578f6cbe",
   "metadata": {},
   "outputs": [
    {
     "name": "stdout",
     "output_type": "stream",
     "text": [
      "Branch 'master' set up to track remote branch 'master' from 'origin'.\n",
      "Your branch is up to date with 'origin/master'.\n"
     ]
    },
    {
     "name": "stderr",
     "output_type": "stream",
     "text": [
      "Reset branch 'master'\n"
     ]
    },
    {
     "data": {
      "text/plain": [
       "0"
      ]
     },
     "execution_count": 19,
     "metadata": {},
     "output_type": "execute_result"
    }
   ],
   "source": [
    "ld.pull()"
   ]
  },
  {
   "cell_type": "code",
   "execution_count": null,
   "id": "91e41fe0-0806-40b6-bad1-0ff240a4a8d1",
   "metadata": {},
   "outputs": [],
   "source": []
  }
 ],
 "metadata": {
  "kernelspec": {
   "display_name": "Python 3 (ipykernel)",
   "language": "python",
   "name": "python3"
  },
  "language_info": {
   "codemirror_mode": {
    "name": "ipython",
    "version": 3
   },
   "file_extension": ".py",
   "mimetype": "text/x-python",
   "name": "python",
   "nbconvert_exporter": "python",
   "pygments_lexer": "ipython3",
   "version": "3.10.12"
  }
 },
 "nbformat": 4,
 "nbformat_minor": 5
}
